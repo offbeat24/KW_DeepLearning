{
  "nbformat": 4,
  "nbformat_minor": 0,
  "metadata": {
    "coursera": {
      "course_slug": "neural-networks-deep-learning",
      "graded_item_id": "XaIWT",
      "launcher_item_id": "zAgPl"
    },
    "kernelspec": {
      "display_name": "Python 3",
      "language": "python",
      "name": "python3"
    },
    "language_info": {
      "codemirror_mode": {
        "name": "ipython",
        "version": 3
      },
      "file_extension": ".py",
      "mimetype": "text/x-python",
      "name": "python",
      "nbconvert_exporter": "python",
      "pygments_lexer": "ipython3",
      "version": "3.6.0"
    },
    "colab": {
      "name": "HW1_sol.ipynb",
      "provenance": [],
      "collapsed_sections": []
    }
  },
  "cells": [
    {
      "cell_type": "markdown",
      "metadata": {
        "id": "9OA0f9oxYGYb"
      },
      "source": [
        "# HW#1 Perceptron\n",
        "\n",
        "안녕하세요, 광운대학교 로봇학부의 오정현 교수입니다. 본 자료는 딥러닝 실습 수업을 위해 제작된 것입니다.\n",
        "\n",
        "파이썬 문법\n",
        "- 점프투파이썬(https://wikidocs.net/book/1) 참고\n",
        "\n",
        "이번 과제는 Perceptron 구현입니다.\n",
        "\n",
        "\n"
      ]
    },
    {
      "cell_type": "markdown",
      "metadata": {
        "id": "SpCJAuxtt3kK"
      },
      "source": [
        "#1. Perceptron Learning Algorithm\n",
        "Perceptron은 Linearly separable data를 Classification 할 수 있는 알고리즘입니다. 이번 파트에서는 Perceptron을 한번 구현해 봅시다."
      ]
    },
    {
      "cell_type": "markdown",
      "metadata": {
        "id": "bTsM8H8rYGYc"
      },
      "source": [
        "# 1.1 - Package import\n",
        "\n",
        "먼저 과제에 필요한 package를 import 합니다.\n",
        "- [numpy](www.numpy.org)는 파이썬에서 행렬 연산을 위한 핵심 라이브러리입니다.\n",
        "- [matplotlib](http://matplotlib.org) 파이썬에서 plot을 위한 라이브러리입니다."
      ]
    },
    {
      "cell_type": "code",
      "metadata": {
        "id": "zS7ADvk7eYmL"
      },
      "source": [
        "import numpy as np\n",
        "import matplotlib.pyplot as plt"
      ],
      "execution_count": null,
      "outputs": []
    },
    {
      "cell_type": "markdown",
      "metadata": {
        "id": "ZTU1oUwNthHh"
      },
      "source": [
        "##1.2 - Linearly separable data generation\n",
        "2차원의 Linearly separable data인 X와 Label Y를 만들고 plot해보세요. Lineary separable이라는 말은 직선을 경계로 나눌 수 있다는 뜻입니다.\n",
        "\n",
        "\n",
        "1. 먼저 X를 만들어 봅시다. X는 2차원의 N개의 점으로 이루어져 있습니다.. 즉 X는 N x 2 차원의 행렬입니다. 본 문제에서는 $N=100$으로 가정합시다. `np.random.rand()` 함수를 이용하여 100 X 2 행렬인 X를 만들어 보세요.\n",
        "\n",
        "$$X=\\begin{bmatrix} x_1^{(1)}& x_2^{(1)}\\\\ x_1^{(2)}&x_2^{(2)} \\\\ \\vdots&\\vdots \\\\ x_1^{(N)}&x_2^{(N)}\\end{bmatrix}$$\n",
        "\n",
        "\n",
        "2. 이번에는 Label 정보를 가지고 있는 Y를 만들어보세요.  여기서는 $x_2=3x_1-1$이라는 선을 경계로 $x_2 > 3x_1-1$이면 1이라는 값을 갖고, 그렇지 않으면 -1이라는 값을 가지도록 합시다. N개의 data에 대한 라벨을 가지기 때문에 Y는 N x 1 차원의 행렬입니다. 이 문제에서는 100 x 1이 될 것입니다.\n",
        "\n",
        "$$Y=\\begin{bmatrix} y^{(1)}\\\\ y^{(2)}\\\\ \\vdots\\\\ y^{(N)}\\end{bmatrix}$$\n",
        "\n",
        "\n",
        "**Exercise:** X와 Y를 만들고 출력해보세요.\n"
      ]
    },
    {
      "cell_type": "code",
      "metadata": {
        "id": "V4BVu2Ghtev8",
        "colab": {
          "base_uri": "https://localhost:8080/"
        },
        "outputId": "162ade31-61d5-4df4-c351-40007edb7791"
      },
      "source": [
        "### START CODE HERE ###\n",
        "\n",
        "### END CODE HERE ###\n",
        "assert X.shape==(100,2)\n",
        "assert Y.shape==(100,1)"
      ],
      "execution_count": 68,
      "outputs": [
        {
          "output_type": "execute_result",
          "data": {
            "text/plain": [
              "100"
            ]
          },
          "metadata": {},
          "execution_count": 68
        }
      ]
    },
    {
      "cell_type": "code",
      "metadata": {
        "id": "9A-N_GmszgaB",
        "colab": {
          "base_uri": "https://localhost:8080/",
          "height": 297
        },
        "outputId": "0636058f-36bf-42df-eb51-793e2dc85217"
      },
      "source": [
        "plt.scatter(X[:, 0], X[:, 1], c=Y, s=10, cmap=plt.cm.Paired)\n",
        "plt.xlabel('x1')\n",
        "plt.ylabel('x2')"
      ],
      "execution_count": null,
      "outputs": [
        {
          "output_type": "execute_result",
          "data": {
            "text/plain": [
              "Text(0, 0.5, 'x2')"
            ]
          },
          "metadata": {},
          "execution_count": 4
        },
        {
          "output_type": "display_data",
          "data": {
            "text/plain": [
              "<Figure size 432x288 with 1 Axes>"
            ],
            "image/png": "[encoded data removed]"
          },
          "metadata": {
            "needs_background": "light"
          }
        }
      ]
    },
    {
      "cell_type": "markdown",
      "metadata": {
        "id": "Hq63u_AC0fLL"
      },
      "source": [
        "##1.3 - Perceptron implementation\n",
        "`perceptron()` 함수를 구현해봅시다. \n",
        "먼저 수업 시간에 배웠듯이 편의상 모든 X 데이터에 $x_0=1$이 추가되어 있는 X_ones를 만들고 우리가 찾아야할 weight 행렬을 $w$라고 정의합니다. 따라서 X_ones의 차원은 N x 3이 될 것이고 $w=[w_0, w_1, w_2]$가 될 것입니다.\n",
        "\n",
        "\n",
        "perceptron은 다음과 같은 과정으로 weight를 찾아냅니다.\n",
        "\n",
        "> for each training case\n",
        "\n",
        ">&nbsp;&nbsp;&nbsp;&nbsp; $z^{(i)} = \\mathbf{w}^T\\mathbf{Xones}$\n",
        "\n",
        ">&nbsp;&nbsp;&nbsp;&nbsp;if $z^{(i)}*y^{(i)} \\leq 0$\n",
        "\n",
        ">&nbsp;&nbsp;&nbsp;&nbsp;&nbsp;&nbsp;&nbsp;&nbsp;$\\mathbf{w} = \\mathbf{w} + \\mathbf{Xones}^{(i)} * y^{(i)}$\n",
        "\n",
        "위 과정을 w가 변하지 않을 때까지 반복합니다. 본 과제에서는 편의상 충분히 큰 횟수인 100회를 반복하면 변하지 않는다고 가정하겠습니다.\n",
        "\n",
        "**Exercise:** Perceptron 알고리즘 구현해보세요.\n"
      ]
    },
    {
      "cell_type": "code",
      "metadata": {
        "id": "bF6sT0xOheB3"
      },
      "source": [
        "def perceptron(X,Y):\n",
        "  X_ones=np.concatenate((np.ones((len(X),1)),X), axis=1)\n",
        "  w=np.zeros(X_ones.shape[1])\n",
        "\n",
        "  epochs = 100\n",
        "  for ep in range(epochs):\n",
        "\n",
        "  ### START CODE HERE ###\n",
        "\n",
        "  ### END CODE HERE ###\n",
        "\n",
        "  return w\n"
      ],
      "execution_count": 69,
      "outputs": []
    },
    {
      "cell_type": "code",
      "metadata": {
        "id": "taU6Hlmu54YN",
        "colab": {
          "base_uri": "https://localhost:8080/"
        },
        "outputId": "800556ac-7a2d-4ec0-b4a9-f2d44d9a65e4"
      },
      "source": [
        "w=perceptron(X,Y)\n",
        "assert w.shape[0]==3\n",
        "print(w)"
      ],
      "execution_count": null,
      "outputs": [
        {
          "output_type": "stream",
          "name": "stdout",
          "text": [
            "[-1.          2.75983009 -0.78594882]\n"
          ]
        }
      ]
    },
    {
      "cell_type": "markdown",
      "metadata": {
        "id": "MNMGI4xI_AXp"
      },
      "source": [
        "##1.4 - Visualization\n",
        "우리가 찾은 weight가 정말 data를 잘 구분하는지 살펴보겠습니다.\n",
        "$x_0=1$이기 때문에 prediction인 $z$는 다음과 같은 식을 만족합니다.\n",
        "\n",
        "$$z=w_0x_0+w_1x_1+w_2x_2=w_0+w_1x_1+w_2x_2$$\n",
        "\n",
        "이 때 z=0을 경계로 데이터가 나누어지기 때문에 $(x_1,x_2)$은 다음과 같은 식을 만족합니다.\n",
        "\n",
        "$$x_2 = -\\frac{w_1}{w_2}x_1-\\frac{w_0}{w_2} $$\n",
        "\n",
        "\n",
        "아래 코드를 실행하여 데이터가 잘 나누어지는지 살펴보세요."
      ]
    },
    {
      "cell_type": "code",
      "metadata": {
        "id": "wL7dSKu4gsuq",
        "colab": {
          "base_uri": "https://localhost:8080/",
          "height": 301
        },
        "outputId": "ec23b127-d935-461d-8cf1-0d9e18542dd2"
      },
      "source": [
        "plt.scatter(X[:, 0], X[:, 1], c=Y, s=10, cmap=plt.cm.Paired)\n",
        "plt.plot([0,1],[-w[0]/w[2],-w[0]/w[2]-w[1]/w[2]])\n",
        "plt.xlim((0,1))\n",
        "plt.ylim((0,1))\n",
        "plt.xlabel('x1')\n",
        "plt.ylabel('x2')"
      ],
      "execution_count": null,
      "outputs": [
        {
          "output_type": "execute_result",
          "data": {
            "text/plain": [
              "Text(0, 0.5, 'x2')"
            ]
          },
          "metadata": {},
          "execution_count": 7
        },
        {
          "output_type": "display_data",
          "data": {
            "text/plain": [
              "<Figure size 432x288 with 1 Axes>"
            ],
            "image/png": "[encoded data removed]"
          },
          "metadata": {
            "needs_background": "light"
          }
        }
      ]
    },
    {
      "cell_type": "markdown",
      "metadata": {
        "id": "SrSi9Cy7Ar4J"
      },
      "source": [
        "##1.5 (optional) Multi-class perceptron\n",
        "\n",
        "만약 class가 여러개일 때 perceptron으로 분류하려면 어떻게 해야 할까요?\n",
        "예를 들어 class label이 3가지인 경우, 즉 1,2,3인 경우를 생각해봅시다.\n",
        "\n",
        "첫번째 방법은 one vs rest 방법입니다.\n",
        "\n",
        "*   1번라벨 vs 2번라벨과 3번라벨  -> Perceptron -> Line1\n",
        "*   2번라벨 vs 1번라벨과 3번라벨  -> Perceptron -> Line2\n",
        "*   3번라벨 vs 1번라벨과 2번라벨  -> Perceptron -> Line3\n",
        "\n",
        "이렇게 Line 3개를 찾아서 그으면 3개의 클래스를 구분할 수 있습니다. \n",
        "\n",
        "두번째 방법으로는 one vs one 방법입니다.\n",
        "\n",
        "*   1번라벨 vs 2번라벨  -> Perceptron -> Line1\n",
        "*   2번라벨 vs 3번라벨  -> Perceptron -> Line2\n",
        "*   3번라벨 vs 1번라벨  -> Perceptron -> Line3\n",
        "\n",
        "이렇게 해서도 Line 3개를 찾을 수 있습니다.\n",
        "Label이 3개인 데이터를 만들어서 perceptron을 실행하여 데이터를 분류하고 plot해보세요.\n"
      ]
    },
    {
      "cell_type": "code",
      "source": [
        "### START CODE HERE ###\n",
        "\n",
        "#### END CODE HERE ###"
      ],
      "metadata": {
        "id": "o48u9obvx5SZ"
      },
      "execution_count": null,
      "outputs": []
    },
    {
      "cell_type": "markdown",
      "source": [
        "##1.6 (optional) 3D perceptron\n",
        "\n",
        "우리는 2차원 데이터에 대한 Perceptron 알고리즘을 Visualization 해보았습니다. 만약 데이터가 3차원 혹은 그 이상이라면 어떻게 될까요?\n",
        "\n",
        "Perceptron 알고리즘은 Linearly separable data라면 차원이 달라져도 구분이 가능합니다. 즉 위에서 구현한 Perceptron 함수를 그대로 사용할 수 있습니다.\n",
        "\n",
        "3차원 데이터에 대해서 Perceptron이 동작함을 Visualization 해보세요. 아마 3차원 공간에 데이터들이 있고 평면으로 구분될 것입니다. Rotating 3d plot으로 그려 보시기 바랍니다."
      ],
      "metadata": {
        "id": "2IZOT-XbwEoI"
      }
    },
    {
      "cell_type": "code",
      "source": [
        "### START CODE HERE ###\n",
        "\n",
        "#### END CODE HERE ###"
      ],
      "metadata": {
        "id": "4VUsQNb2yBmY"
      },
      "execution_count": null,
      "outputs": []
    }
  ]
}