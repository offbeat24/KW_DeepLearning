{
  "cells": [
    {
      "cell_type": "markdown",
      "metadata": {
        "id": "G3zjrcHpOsXR"
      },
      "source": [
        "# LSTM을 활용한 주가 예측 모델"
      ]
    },
    {
      "cell_type": "markdown",
      "metadata": {
        "id": "0BZ581hYOsXT"
      },
      "source": [
        "이번 튜토리얼 에서는 다음과 같은 **프로세스 파이프라인**으로 주가 예측을 진행합니다.\n",
        "\n",
        "- FinanceDataReader를 활용하여 주가 데이터 받아오기\n",
        "- TensorFlow Dataset 클래스를 활용하여 주가 데이터 구축\n",
        "- LSTM 을 활용한 주가 예측 모델 구축"
      ]
    },
    {
      "cell_type": "markdown",
      "metadata": {
        "id": "SuF2LaiyOsXT"
      },
      "source": [
        "## 필요한 모듈 import"
      ]
    },
    {
      "cell_type": "code",
      "execution_count": 2,
      "metadata": {
        "id": "JNuRPqEvOsXU"
      },
      "outputs": [],
      "source": [
        "import pandas as pd\n",
        "import numpy as np\n",
        "import matplotlib.pyplot as plt\n",
        "import seaborn as sns\n",
        "import warnings\n",
        "import os\n",
        "\n",
        "%matplotlib inline\n",
        "warnings.filterwarnings('ignore')\n",
        "\n",
        "plt.rcParams['font.family'] = 'NanumGothic'"
      ]
    },
    {
      "cell_type": "markdown",
      "metadata": {
        "id": "h2nHspopOsXV"
      },
      "source": [
        "## 데이터 (FinanceDataReader)"
      ]
    },
    {
      "cell_type": "markdown",
      "metadata": {
        "id": "2Oksd_4mOsXV"
      },
      "source": [
        "**FinanceDataReader**는 주가 데이터를 편리하게 가져올 수 있는 파이썬 패키지입니다.\n",
        "\n",
        "- [GitHub Repo](https://github.com/FinanceData/FinanceDataReader)"
      ]
    },
    {
      "cell_type": "markdown",
      "metadata": {
        "id": "M0d5hnfqOsXV"
      },
      "source": [
        "**FinanceDataReader**가 아직 설치 되지 않으신 분들은 아래의 주석을 해제한 후 명령어로 설치해 주시기 바랍니다."
      ]
    },
    {
      "cell_type": "code",
      "execution_count": 3,
      "metadata": {
        "id": "Zf2_XnLROsXW"
      },
      "outputs": [],
      "source": [
        "# !pip install finance-datareader"
      ]
    },
    {
      "cell_type": "code",
      "execution_count": 4,
      "metadata": {
        "id": "FWySuhuNOsXX"
      },
      "outputs": [],
      "source": [
        "import FinanceDataReader as fdr"
      ]
    },
    {
      "cell_type": "code",
      "execution_count": 5,
      "metadata": {
        "id": "ojJr1Fs_OsXX"
      },
      "outputs": [],
      "source": [
        "# 삼성전자(005930) 전체 (1996-11-05 ~ 현재)\n",
        "samsung = fdr.DataReader('005930')"
      ]
    },
    {
      "cell_type": "markdown",
      "metadata": {
        "id": "QFqOqwc-OsXY"
      },
      "source": [
        "매우 편리하게 삼성전자 주가 데이터를 `DataFrame`형식으로 받아옵니다.\n",
        "\n",
        "기본 **오름차순 정렬**이 된 데이터임을 알 수 있습니다.\n",
        "\n",
        "### 컬럼 설명\n",
        "\n",
        "- `Open`:   시가\n",
        "- `High`:   고가\n",
        "- `Low`:    저가\n",
        "- `Close`:  종가\n",
        "- `Volume`: 거래량\n",
        "- `Change`: 대비"
      ]
    },
    {
      "cell_type": "code",
      "execution_count": 6,
      "metadata": {
        "id": "1mJ8umVVOsXY",
        "outputId": "59d68b19-3fe6-47ff-ae65-b28962d309ed"
      },
      "outputs": [
        {
          "data": {
            "text/html": [
              "<div>\n",
              "<style scoped>\n",
              "    .dataframe tbody tr th:only-of-type {\n",
              "        vertical-align: middle;\n",
              "    }\n",
              "\n",
              "    .dataframe tbody tr th {\n",
              "        vertical-align: top;\n",
              "    }\n",
              "\n",
              "    .dataframe thead th {\n",
              "        text-align: right;\n",
              "    }\n",
              "</style>\n",
              "<table border=\"1\" class=\"dataframe\">\n",
              "  <thead>\n",
              "    <tr style=\"text-align: right;\">\n",
              "      <th></th>\n",
              "      <th>Open</th>\n",
              "      <th>High</th>\n",
              "      <th>Low</th>\n",
              "      <th>Close</th>\n",
              "      <th>Volume</th>\n",
              "      <th>Change</th>\n",
              "    </tr>\n",
              "    <tr>\n",
              "      <th>Date</th>\n",
              "      <th></th>\n",
              "      <th></th>\n",
              "      <th></th>\n",
              "      <th></th>\n",
              "      <th></th>\n",
              "      <th></th>\n",
              "    </tr>\n",
              "  </thead>\n",
              "  <tbody>\n",
              "    <tr>\n",
              "      <th>2022-06-13</th>\n",
              "      <td>62400</td>\n",
              "      <td>62800</td>\n",
              "      <td>62100</td>\n",
              "      <td>62100</td>\n",
              "      <td>22157816</td>\n",
              "      <td>-0.026646</td>\n",
              "    </tr>\n",
              "    <tr>\n",
              "      <th>2022-06-14</th>\n",
              "      <td>61200</td>\n",
              "      <td>62200</td>\n",
              "      <td>61100</td>\n",
              "      <td>61900</td>\n",
              "      <td>24606419</td>\n",
              "      <td>-0.003221</td>\n",
              "    </tr>\n",
              "    <tr>\n",
              "      <th>2022-06-15</th>\n",
              "      <td>61300</td>\n",
              "      <td>61500</td>\n",
              "      <td>60200</td>\n",
              "      <td>60700</td>\n",
              "      <td>26811224</td>\n",
              "      <td>-0.019386</td>\n",
              "    </tr>\n",
              "    <tr>\n",
              "      <th>2022-06-16</th>\n",
              "      <td>61300</td>\n",
              "      <td>61800</td>\n",
              "      <td>60500</td>\n",
              "      <td>60900</td>\n",
              "      <td>23394895</td>\n",
              "      <td>0.003295</td>\n",
              "    </tr>\n",
              "    <tr>\n",
              "      <th>2022-06-17</th>\n",
              "      <td>59400</td>\n",
              "      <td>59900</td>\n",
              "      <td>59400</td>\n",
              "      <td>59800</td>\n",
              "      <td>28794403</td>\n",
              "      <td>-0.018062</td>\n",
              "    </tr>\n",
              "  </tbody>\n",
              "</table>\n",
              "</div>"
            ],
            "text/plain": [
              "             Open   High    Low  Close    Volume    Change\n",
              "Date                                                      \n",
              "2022-06-13  62400  62800  62100  62100  22157816 -0.026646\n",
              "2022-06-14  61200  62200  61100  61900  24606419 -0.003221\n",
              "2022-06-15  61300  61500  60200  60700  26811224 -0.019386\n",
              "2022-06-16  61300  61800  60500  60900  23394895  0.003295\n",
              "2022-06-17  59400  59900  59400  59800  28794403 -0.018062"
            ]
          },
          "execution_count": 6,
          "metadata": {},
          "output_type": "execute_result"
        }
      ],
      "source": [
        "samsung.tail()"
      ]
    },
    {
      "cell_type": "markdown",
      "metadata": {
        "id": "uKzHN1pwOsXZ"
      },
      "source": [
        "**미국 주식 데이터**도 가져올 수 있습니다."
      ]
    },
    {
      "cell_type": "code",
      "execution_count": 7,
      "metadata": {
        "id": "TkDJf_jQOsXZ"
      },
      "outputs": [],
      "source": [
        "# Apple(AAPL), 애플\n",
        "apple = fdr.DataReader('AAPL')"
      ]
    },
    {
      "cell_type": "code",
      "execution_count": 8,
      "metadata": {
        "id": "OvaVhHx3OsXZ",
        "outputId": "ebc6cde0-57d2-4c5c-8fc1-34fb038ae331"
      },
      "outputs": [
        {
          "data": {
            "text/html": [
              "<div>\n",
              "<style scoped>\n",
              "    .dataframe tbody tr th:only-of-type {\n",
              "        vertical-align: middle;\n",
              "    }\n",
              "\n",
              "    .dataframe tbody tr th {\n",
              "        vertical-align: top;\n",
              "    }\n",
              "\n",
              "    .dataframe thead th {\n",
              "        text-align: right;\n",
              "    }\n",
              "</style>\n",
              "<table border=\"1\" class=\"dataframe\">\n",
              "  <thead>\n",
              "    <tr style=\"text-align: right;\">\n",
              "      <th></th>\n",
              "      <th>Close</th>\n",
              "      <th>Open</th>\n",
              "      <th>High</th>\n",
              "      <th>Low</th>\n",
              "      <th>Volume</th>\n",
              "      <th>Change</th>\n",
              "    </tr>\n",
              "    <tr>\n",
              "      <th>Date</th>\n",
              "      <th></th>\n",
              "      <th></th>\n",
              "      <th></th>\n",
              "      <th></th>\n",
              "      <th></th>\n",
              "      <th></th>\n",
              "    </tr>\n",
              "  </thead>\n",
              "  <tbody>\n",
              "    <tr>\n",
              "      <th>2022-06-10</th>\n",
              "      <td>137.13</td>\n",
              "      <td>140.28</td>\n",
              "      <td>140.76</td>\n",
              "      <td>137.06</td>\n",
              "      <td>91160000.0</td>\n",
              "      <td>-0.0386</td>\n",
              "    </tr>\n",
              "    <tr>\n",
              "      <th>2022-06-13</th>\n",
              "      <td>131.88</td>\n",
              "      <td>132.87</td>\n",
              "      <td>135.20</td>\n",
              "      <td>131.44</td>\n",
              "      <td>121170000.0</td>\n",
              "      <td>-0.0383</td>\n",
              "    </tr>\n",
              "    <tr>\n",
              "      <th>2022-06-14</th>\n",
              "      <td>132.76</td>\n",
              "      <td>133.13</td>\n",
              "      <td>133.89</td>\n",
              "      <td>131.48</td>\n",
              "      <td>83890000.0</td>\n",
              "      <td>0.0067</td>\n",
              "    </tr>\n",
              "    <tr>\n",
              "      <th>2022-06-15</th>\n",
              "      <td>135.43</td>\n",
              "      <td>134.29</td>\n",
              "      <td>137.34</td>\n",
              "      <td>132.16</td>\n",
              "      <td>90900000.0</td>\n",
              "      <td>0.0201</td>\n",
              "    </tr>\n",
              "    <tr>\n",
              "      <th>2022-06-16</th>\n",
              "      <td>130.06</td>\n",
              "      <td>131.89</td>\n",
              "      <td>132.15</td>\n",
              "      <td>129.07</td>\n",
              "      <td>107720000.0</td>\n",
              "      <td>-0.0397</td>\n",
              "    </tr>\n",
              "  </tbody>\n",
              "</table>\n",
              "</div>"
            ],
            "text/plain": [
              "             Close    Open    High     Low       Volume  Change\n",
              "Date                                                           \n",
              "2022-06-10  137.13  140.28  140.76  137.06   91160000.0 -0.0386\n",
              "2022-06-13  131.88  132.87  135.20  131.44  121170000.0 -0.0383\n",
              "2022-06-14  132.76  133.13  133.89  131.48   83890000.0  0.0067\n",
              "2022-06-15  135.43  134.29  137.34  132.16   90900000.0  0.0201\n",
              "2022-06-16  130.06  131.89  132.15  129.07  107720000.0 -0.0397"
            ]
          },
          "execution_count": 8,
          "metadata": {},
          "output_type": "execute_result"
        }
      ],
      "source": [
        "apple.tail()"
      ]
    },
    {
      "cell_type": "markdown",
      "metadata": {
        "id": "oyFcdv12OsXa"
      },
      "source": [
        "다음과 같이 `2017`을 같이 넘겨주면, 해당 시점 이후의 주식 데이터를 가져옵니다."
      ]
    },
    {
      "cell_type": "code",
      "execution_count": 9,
      "metadata": {
        "id": "MDPff9_bOsXa"
      },
      "outputs": [],
      "source": [
        "# Apple(AAPL), 애플\n",
        "apple = fdr.DataReader('AAPL', '2017')"
      ]
    },
    {
      "cell_type": "code",
      "execution_count": 10,
      "metadata": {
        "id": "uCYnN7cXOsXa",
        "outputId": "62c8c24f-9437-4721-e392-5f1a7f253389"
      },
      "outputs": [
        {
          "data": {
            "text/html": [
              "<div>\n",
              "<style scoped>\n",
              "    .dataframe tbody tr th:only-of-type {\n",
              "        vertical-align: middle;\n",
              "    }\n",
              "\n",
              "    .dataframe tbody tr th {\n",
              "        vertical-align: top;\n",
              "    }\n",
              "\n",
              "    .dataframe thead th {\n",
              "        text-align: right;\n",
              "    }\n",
              "</style>\n",
              "<table border=\"1\" class=\"dataframe\">\n",
              "  <thead>\n",
              "    <tr style=\"text-align: right;\">\n",
              "      <th></th>\n",
              "      <th>Close</th>\n",
              "      <th>Open</th>\n",
              "      <th>High</th>\n",
              "      <th>Low</th>\n",
              "      <th>Volume</th>\n",
              "      <th>Change</th>\n",
              "    </tr>\n",
              "    <tr>\n",
              "      <th>Date</th>\n",
              "      <th></th>\n",
              "      <th></th>\n",
              "      <th></th>\n",
              "      <th></th>\n",
              "      <th></th>\n",
              "      <th></th>\n",
              "    </tr>\n",
              "  </thead>\n",
              "  <tbody>\n",
              "    <tr>\n",
              "      <th>2017-01-03</th>\n",
              "      <td>29.04</td>\n",
              "      <td>28.95</td>\n",
              "      <td>29.08</td>\n",
              "      <td>28.69</td>\n",
              "      <td>115130000.0</td>\n",
              "      <td>0.0031</td>\n",
              "    </tr>\n",
              "    <tr>\n",
              "      <th>2017-01-04</th>\n",
              "      <td>29.00</td>\n",
              "      <td>28.96</td>\n",
              "      <td>29.13</td>\n",
              "      <td>28.94</td>\n",
              "      <td>84470000.0</td>\n",
              "      <td>-0.0014</td>\n",
              "    </tr>\n",
              "    <tr>\n",
              "      <th>2017-01-05</th>\n",
              "      <td>29.15</td>\n",
              "      <td>28.98</td>\n",
              "      <td>29.22</td>\n",
              "      <td>28.95</td>\n",
              "      <td>88770000.0</td>\n",
              "      <td>0.0052</td>\n",
              "    </tr>\n",
              "    <tr>\n",
              "      <th>2017-01-06</th>\n",
              "      <td>29.48</td>\n",
              "      <td>29.20</td>\n",
              "      <td>29.54</td>\n",
              "      <td>29.12</td>\n",
              "      <td>127010000.0</td>\n",
              "      <td>0.0113</td>\n",
              "    </tr>\n",
              "    <tr>\n",
              "      <th>2017-01-09</th>\n",
              "      <td>29.75</td>\n",
              "      <td>29.49</td>\n",
              "      <td>29.86</td>\n",
              "      <td>29.48</td>\n",
              "      <td>134250000.0</td>\n",
              "      <td>0.0092</td>\n",
              "    </tr>\n",
              "  </tbody>\n",
              "</table>\n",
              "</div>"
            ],
            "text/plain": [
              "            Close   Open   High    Low       Volume  Change\n",
              "Date                                                       \n",
              "2017-01-03  29.04  28.95  29.08  28.69  115130000.0  0.0031\n",
              "2017-01-04  29.00  28.96  29.13  28.94   84470000.0 -0.0014\n",
              "2017-01-05  29.15  28.98  29.22  28.95   88770000.0  0.0052\n",
              "2017-01-06  29.48  29.20  29.54  29.12  127010000.0  0.0113\n",
              "2017-01-09  29.75  29.49  29.86  29.48  134250000.0  0.0092"
            ]
          },
          "execution_count": 10,
          "metadata": {},
          "output_type": "execute_result"
        }
      ],
      "source": [
        "apple.head()"
      ]
    },
    {
      "cell_type": "markdown",
      "metadata": {
        "id": "yN0wiWuNOsXa"
      },
      "source": [
        "**시작**과 **끝** 날짜를 지정하여 범위 데이터를 가져올 수 있습니다."
      ]
    },
    {
      "cell_type": "code",
      "execution_count": 11,
      "metadata": {
        "id": "vKtL986COsXb"
      },
      "outputs": [],
      "source": [
        "# Ford(F), 1980-01-01 ~ 2019-12-30 (40년 데이터)\n",
        "ford = fdr.DataReader('F', '1980-01-01', '2019-12-30')"
      ]
    },
    {
      "cell_type": "code",
      "execution_count": 12,
      "metadata": {
        "id": "YduMKBQCOsXb",
        "outputId": "dea799ce-7a54-409c-a013-7dea7839771e"
      },
      "outputs": [
        {
          "data": {
            "text/html": [
              "<div>\n",
              "<style scoped>\n",
              "    .dataframe tbody tr th:only-of-type {\n",
              "        vertical-align: middle;\n",
              "    }\n",
              "\n",
              "    .dataframe tbody tr th {\n",
              "        vertical-align: top;\n",
              "    }\n",
              "\n",
              "    .dataframe thead th {\n",
              "        text-align: right;\n",
              "    }\n",
              "</style>\n",
              "<table border=\"1\" class=\"dataframe\">\n",
              "  <thead>\n",
              "    <tr style=\"text-align: right;\">\n",
              "      <th></th>\n",
              "      <th>Close</th>\n",
              "      <th>Open</th>\n",
              "      <th>High</th>\n",
              "      <th>Low</th>\n",
              "      <th>Volume</th>\n",
              "      <th>Change</th>\n",
              "    </tr>\n",
              "    <tr>\n",
              "      <th>Date</th>\n",
              "      <th></th>\n",
              "      <th></th>\n",
              "      <th></th>\n",
              "      <th></th>\n",
              "      <th></th>\n",
              "      <th></th>\n",
              "    </tr>\n",
              "  </thead>\n",
              "  <tbody>\n",
              "    <tr>\n",
              "      <th>1980-03-18</th>\n",
              "      <td>1.83</td>\n",
              "      <td>1.83</td>\n",
              "      <td>1.85</td>\n",
              "      <td>1.82</td>\n",
              "      <td>3770000.0</td>\n",
              "      <td>-0.0108</td>\n",
              "    </tr>\n",
              "    <tr>\n",
              "      <th>1980-03-19</th>\n",
              "      <td>1.85</td>\n",
              "      <td>1.85</td>\n",
              "      <td>1.86</td>\n",
              "      <td>1.83</td>\n",
              "      <td>1560000.0</td>\n",
              "      <td>0.0109</td>\n",
              "    </tr>\n",
              "    <tr>\n",
              "      <th>1980-03-20</th>\n",
              "      <td>1.86</td>\n",
              "      <td>1.86</td>\n",
              "      <td>1.88</td>\n",
              "      <td>1.85</td>\n",
              "      <td>1450000.0</td>\n",
              "      <td>0.0054</td>\n",
              "    </tr>\n",
              "    <tr>\n",
              "      <th>1980-03-21</th>\n",
              "      <td>1.78</td>\n",
              "      <td>1.78</td>\n",
              "      <td>1.85</td>\n",
              "      <td>1.76</td>\n",
              "      <td>5020000.0</td>\n",
              "      <td>-0.0430</td>\n",
              "    </tr>\n",
              "    <tr>\n",
              "      <th>1980-03-24</th>\n",
              "      <td>1.71</td>\n",
              "      <td>1.71</td>\n",
              "      <td>1.75</td>\n",
              "      <td>1.66</td>\n",
              "      <td>3330000.0</td>\n",
              "      <td>-0.0393</td>\n",
              "    </tr>\n",
              "  </tbody>\n",
              "</table>\n",
              "</div>"
            ],
            "text/plain": [
              "            Close  Open  High   Low     Volume  Change\n",
              "Date                                                  \n",
              "1980-03-18   1.83  1.83  1.85  1.82  3770000.0 -0.0108\n",
              "1980-03-19   1.85  1.85  1.86  1.83  1560000.0  0.0109\n",
              "1980-03-20   1.86  1.86  1.88  1.85  1450000.0  0.0054\n",
              "1980-03-21   1.78  1.78  1.85  1.76  5020000.0 -0.0430\n",
              "1980-03-24   1.71  1.71  1.75  1.66  3330000.0 -0.0393"
            ]
          },
          "execution_count": 12,
          "metadata": {},
          "output_type": "execute_result"
        }
      ],
      "source": [
        "ford.head()"
      ]
    },
    {
      "cell_type": "code",
      "execution_count": 13,
      "metadata": {
        "id": "llYqV-eUOsXb",
        "outputId": "80b14cdb-b7cb-496b-db5f-36c6502f6dfb"
      },
      "outputs": [
        {
          "data": {
            "text/html": [
              "<div>\n",
              "<style scoped>\n",
              "    .dataframe tbody tr th:only-of-type {\n",
              "        vertical-align: middle;\n",
              "    }\n",
              "\n",
              "    .dataframe tbody tr th {\n",
              "        vertical-align: top;\n",
              "    }\n",
              "\n",
              "    .dataframe thead th {\n",
              "        text-align: right;\n",
              "    }\n",
              "</style>\n",
              "<table border=\"1\" class=\"dataframe\">\n",
              "  <thead>\n",
              "    <tr style=\"text-align: right;\">\n",
              "      <th></th>\n",
              "      <th>Close</th>\n",
              "      <th>Open</th>\n",
              "      <th>High</th>\n",
              "      <th>Low</th>\n",
              "      <th>Volume</th>\n",
              "      <th>Change</th>\n",
              "    </tr>\n",
              "    <tr>\n",
              "      <th>Date</th>\n",
              "      <th></th>\n",
              "      <th></th>\n",
              "      <th></th>\n",
              "      <th></th>\n",
              "      <th></th>\n",
              "      <th></th>\n",
              "    </tr>\n",
              "  </thead>\n",
              "  <tbody>\n",
              "    <tr>\n",
              "      <th>2019-12-23</th>\n",
              "      <td>9.44</td>\n",
              "      <td>9.50</td>\n",
              "      <td>9.57</td>\n",
              "      <td>9.40</td>\n",
              "      <td>54800000.0</td>\n",
              "      <td>-0.0042</td>\n",
              "    </tr>\n",
              "    <tr>\n",
              "      <th>2019-12-24</th>\n",
              "      <td>9.47</td>\n",
              "      <td>9.44</td>\n",
              "      <td>9.49</td>\n",
              "      <td>9.43</td>\n",
              "      <td>11880000.0</td>\n",
              "      <td>0.0032</td>\n",
              "    </tr>\n",
              "    <tr>\n",
              "      <th>2019-12-26</th>\n",
              "      <td>9.45</td>\n",
              "      <td>9.47</td>\n",
              "      <td>9.49</td>\n",
              "      <td>9.43</td>\n",
              "      <td>28980000.0</td>\n",
              "      <td>-0.0021</td>\n",
              "    </tr>\n",
              "    <tr>\n",
              "      <th>2019-12-27</th>\n",
              "      <td>9.36</td>\n",
              "      <td>9.45</td>\n",
              "      <td>9.46</td>\n",
              "      <td>9.35</td>\n",
              "      <td>28270000.0</td>\n",
              "      <td>-0.0095</td>\n",
              "    </tr>\n",
              "    <tr>\n",
              "      <th>2019-12-30</th>\n",
              "      <td>9.25</td>\n",
              "      <td>9.34</td>\n",
              "      <td>9.35</td>\n",
              "      <td>9.23</td>\n",
              "      <td>36090000.0</td>\n",
              "      <td>-0.0118</td>\n",
              "    </tr>\n",
              "  </tbody>\n",
              "</table>\n",
              "</div>"
            ],
            "text/plain": [
              "            Close  Open  High   Low      Volume  Change\n",
              "Date                                                   \n",
              "2019-12-23   9.44  9.50  9.57  9.40  54800000.0 -0.0042\n",
              "2019-12-24   9.47  9.44  9.49  9.43  11880000.0  0.0032\n",
              "2019-12-26   9.45  9.47  9.49  9.43  28980000.0 -0.0021\n",
              "2019-12-27   9.36  9.45  9.46  9.35  28270000.0 -0.0095\n",
              "2019-12-30   9.25  9.34  9.35  9.23  36090000.0 -0.0118"
            ]
          },
          "execution_count": 13,
          "metadata": {},
          "output_type": "execute_result"
        }
      ],
      "source": [
        "ford.tail()"
      ]
    },
    {
      "cell_type": "markdown",
      "metadata": {
        "id": "FrpnwHvIOsXb"
      },
      "source": [
        "그 밖에 **금, 은과 같은 현물**, **달러와 같은 화폐** 데이터도 가져올 수 있습니다."
      ]
    },
    {
      "cell_type": "markdown",
      "metadata": {
        "id": "5s4CCQ71OsXc"
      },
      "source": [
        "더욱 자세한 내용은 [GitHub 페이지 링크](https://github.com/FinanceData/FinanceDataReader)를 참고해 보시기 바랍니다."
      ]
    },
    {
      "cell_type": "code",
      "execution_count": 14,
      "metadata": {
        "id": "RJtxeKQm0l2w"
      },
      "outputs": [],
      "source": [
        "## 주가데이터 가져오기"
      ]
    },
    {
      "cell_type": "markdown",
      "metadata": {
        "id": "qofGGwgWOsXc"
      },
      "source": [
        "지난 주식 예측 튜토리얼에서는 **삼성전자** 주가데이터로 실습을 해봤으니, \n",
        "\n",
        "이번에는 글로벌 증시의 대장주인 **Apple**사의 주가데이터를 가져와서 예측해 보도록 하겠습니다."
      ]
    },
    {
      "cell_type": "code",
      "execution_count": 15,
      "metadata": {
        "id": "7eHrwAR5OsXc"
      },
      "outputs": [],
      "source": [
        "# 삼성전자 주식코드: 005930\n",
        "STOCK_CODE = '005930'"
      ]
    },
    {
      "cell_type": "code",
      "execution_count": 16,
      "metadata": {
        "id": "nPczXDisOsXc"
      },
      "outputs": [],
      "source": [
        "stock = fdr.DataReader(STOCK_CODE)"
      ]
    },
    {
      "cell_type": "code",
      "execution_count": 17,
      "metadata": {
        "id": "zFst7tOzOsXc",
        "outputId": "2466b5c5-9e32-4871-cfd3-32b3006fb027"
      },
      "outputs": [
        {
          "data": {
            "text/html": [
              "<div>\n",
              "<style scoped>\n",
              "    .dataframe tbody tr th:only-of-type {\n",
              "        vertical-align: middle;\n",
              "    }\n",
              "\n",
              "    .dataframe tbody tr th {\n",
              "        vertical-align: top;\n",
              "    }\n",
              "\n",
              "    .dataframe thead th {\n",
              "        text-align: right;\n",
              "    }\n",
              "</style>\n",
              "<table border=\"1\" class=\"dataframe\">\n",
              "  <thead>\n",
              "    <tr style=\"text-align: right;\">\n",
              "      <th></th>\n",
              "      <th>Open</th>\n",
              "      <th>High</th>\n",
              "      <th>Low</th>\n",
              "      <th>Close</th>\n",
              "      <th>Volume</th>\n",
              "      <th>Change</th>\n",
              "    </tr>\n",
              "    <tr>\n",
              "      <th>Date</th>\n",
              "      <th></th>\n",
              "      <th></th>\n",
              "      <th></th>\n",
              "      <th></th>\n",
              "      <th></th>\n",
              "      <th></th>\n",
              "    </tr>\n",
              "  </thead>\n",
              "  <tbody>\n",
              "    <tr>\n",
              "      <th>1998-04-16</th>\n",
              "      <td>1301</td>\n",
              "      <td>1301</td>\n",
              "      <td>1207</td>\n",
              "      <td>1245</td>\n",
              "      <td>339630</td>\n",
              "      <td>NaN</td>\n",
              "    </tr>\n",
              "    <tr>\n",
              "      <th>1998-04-17</th>\n",
              "      <td>1245</td>\n",
              "      <td>1267</td>\n",
              "      <td>1229</td>\n",
              "      <td>1254</td>\n",
              "      <td>225160</td>\n",
              "      <td>0.007229</td>\n",
              "    </tr>\n",
              "    <tr>\n",
              "      <th>1998-04-18</th>\n",
              "      <td>1287</td>\n",
              "      <td>1301</td>\n",
              "      <td>1234</td>\n",
              "      <td>1236</td>\n",
              "      <td>219894</td>\n",
              "      <td>-0.014354</td>\n",
              "    </tr>\n",
              "    <tr>\n",
              "      <th>1998-04-20</th>\n",
              "      <td>1243</td>\n",
              "      <td>1269</td>\n",
              "      <td>1227</td>\n",
              "      <td>1262</td>\n",
              "      <td>152470</td>\n",
              "      <td>0.021036</td>\n",
              "    </tr>\n",
              "    <tr>\n",
              "      <th>1998-04-21</th>\n",
              "      <td>1279</td>\n",
              "      <td>1318</td>\n",
              "      <td>1252</td>\n",
              "      <td>1294</td>\n",
              "      <td>310010</td>\n",
              "      <td>0.025357</td>\n",
              "    </tr>\n",
              "  </tbody>\n",
              "</table>\n",
              "</div>"
            ],
            "text/plain": [
              "            Open  High   Low  Close  Volume    Change\n",
              "Date                                                 \n",
              "1998-04-16  1301  1301  1207   1245  339630       NaN\n",
              "1998-04-17  1245  1267  1229   1254  225160  0.007229\n",
              "1998-04-18  1287  1301  1234   1236  219894 -0.014354\n",
              "1998-04-20  1243  1269  1227   1262  152470  0.021036\n",
              "1998-04-21  1279  1318  1252   1294  310010  0.025357"
            ]
          },
          "execution_count": 17,
          "metadata": {},
          "output_type": "execute_result"
        }
      ],
      "source": [
        "stock.head()"
      ]
    },
    {
      "cell_type": "code",
      "execution_count": 18,
      "metadata": {
        "id": "zAq5_4ppOsXd",
        "outputId": "e15142a2-012f-4f0d-810e-3597314a6129"
      },
      "outputs": [
        {
          "data": {
            "text/html": [
              "<div>\n",
              "<style scoped>\n",
              "    .dataframe tbody tr th:only-of-type {\n",
              "        vertical-align: middle;\n",
              "    }\n",
              "\n",
              "    .dataframe tbody tr th {\n",
              "        vertical-align: top;\n",
              "    }\n",
              "\n",
              "    .dataframe thead th {\n",
              "        text-align: right;\n",
              "    }\n",
              "</style>\n",
              "<table border=\"1\" class=\"dataframe\">\n",
              "  <thead>\n",
              "    <tr style=\"text-align: right;\">\n",
              "      <th></th>\n",
              "      <th>Open</th>\n",
              "      <th>High</th>\n",
              "      <th>Low</th>\n",
              "      <th>Close</th>\n",
              "      <th>Volume</th>\n",
              "      <th>Change</th>\n",
              "    </tr>\n",
              "    <tr>\n",
              "      <th>Date</th>\n",
              "      <th></th>\n",
              "      <th></th>\n",
              "      <th></th>\n",
              "      <th></th>\n",
              "      <th></th>\n",
              "      <th></th>\n",
              "    </tr>\n",
              "  </thead>\n",
              "  <tbody>\n",
              "    <tr>\n",
              "      <th>2022-06-13</th>\n",
              "      <td>62400</td>\n",
              "      <td>62800</td>\n",
              "      <td>62100</td>\n",
              "      <td>62100</td>\n",
              "      <td>22157816</td>\n",
              "      <td>-0.026646</td>\n",
              "    </tr>\n",
              "    <tr>\n",
              "      <th>2022-06-14</th>\n",
              "      <td>61200</td>\n",
              "      <td>62200</td>\n",
              "      <td>61100</td>\n",
              "      <td>61900</td>\n",
              "      <td>24606419</td>\n",
              "      <td>-0.003221</td>\n",
              "    </tr>\n",
              "    <tr>\n",
              "      <th>2022-06-15</th>\n",
              "      <td>61300</td>\n",
              "      <td>61500</td>\n",
              "      <td>60200</td>\n",
              "      <td>60700</td>\n",
              "      <td>26811224</td>\n",
              "      <td>-0.019386</td>\n",
              "    </tr>\n",
              "    <tr>\n",
              "      <th>2022-06-16</th>\n",
              "      <td>61300</td>\n",
              "      <td>61800</td>\n",
              "      <td>60500</td>\n",
              "      <td>60900</td>\n",
              "      <td>23394895</td>\n",
              "      <td>0.003295</td>\n",
              "    </tr>\n",
              "    <tr>\n",
              "      <th>2022-06-17</th>\n",
              "      <td>59400</td>\n",
              "      <td>59900</td>\n",
              "      <td>59400</td>\n",
              "      <td>59800</td>\n",
              "      <td>28794403</td>\n",
              "      <td>-0.018062</td>\n",
              "    </tr>\n",
              "  </tbody>\n",
              "</table>\n",
              "</div>"
            ],
            "text/plain": [
              "             Open   High    Low  Close    Volume    Change\n",
              "Date                                                      \n",
              "2022-06-13  62400  62800  62100  62100  22157816 -0.026646\n",
              "2022-06-14  61200  62200  61100  61900  24606419 -0.003221\n",
              "2022-06-15  61300  61500  60200  60700  26811224 -0.019386\n",
              "2022-06-16  61300  61800  60500  60900  23394895  0.003295\n",
              "2022-06-17  59400  59900  59400  59800  28794403 -0.018062"
            ]
          },
          "execution_count": 18,
          "metadata": {},
          "output_type": "execute_result"
        }
      ],
      "source": [
        "stock.tail()"
      ]
    },
    {
      "cell_type": "code",
      "execution_count": 19,
      "metadata": {
        "id": "6CcrDZTbOsXd",
        "outputId": "6c1a7890-f1ca-4c6f-aa89-758ff952f95e"
      },
      "outputs": [
        {
          "data": {
            "text/plain": [
              "DatetimeIndex(['1998-04-16', '1998-04-17', '1998-04-18', '1998-04-20',\n",
              "               '1998-04-21', '1998-04-22', '1998-04-23', '1998-04-24',\n",
              "               '1998-04-25', '1998-04-27',\n",
              "               ...\n",
              "               '2022-06-03', '2022-06-07', '2022-06-08', '2022-06-09',\n",
              "               '2022-06-10', '2022-06-13', '2022-06-14', '2022-06-15',\n",
              "               '2022-06-16', '2022-06-17'],\n",
              "              dtype='datetime64[ns]', name='Date', length=6000, freq=None)"
            ]
          },
          "execution_count": 19,
          "metadata": {},
          "output_type": "execute_result"
        }
      ],
      "source": [
        "stock.index"
      ]
    },
    {
      "cell_type": "markdown",
      "metadata": {
        "id": "v47fHcTCOsXd"
      },
      "source": [
        "위에서 보시는 바와 같이 index가 `DatetimeIndex`로 지정되어 있습니다.\n",
        "\n",
        "`DatetimeIndex`로 정의되어 있다면, 아래와 같이 연도, 월, 일을 쪼갤 수 있으며, **월별, 연도별 피벗데이터**를 만들때 유용하게 활용할 수 있습니다."
      ]
    },
    {
      "cell_type": "code",
      "execution_count": 20,
      "metadata": {
        "id": "fif43Fh-0l4L"
      },
      "outputs": [],
      "source": [
        "stock['Year'] = stock.index.year\n",
        "stock['Month'] = stock.index.month\n",
        "stock['Day'] = stock.index.day"
      ]
    },
    {
      "cell_type": "code",
      "execution_count": 21,
      "metadata": {
        "colab": {
          "base_uri": "https://localhost:8080/",
          "height": 198
        },
        "id": "0yAKE9Ag0l4S",
        "outputId": "e7470fde-813c-4e25-9779-53f92ec20bfc"
      },
      "outputs": [
        {
          "data": {
            "text/html": [
              "<div>\n",
              "<style scoped>\n",
              "    .dataframe tbody tr th:only-of-type {\n",
              "        vertical-align: middle;\n",
              "    }\n",
              "\n",
              "    .dataframe tbody tr th {\n",
              "        vertical-align: top;\n",
              "    }\n",
              "\n",
              "    .dataframe thead th {\n",
              "        text-align: right;\n",
              "    }\n",
              "</style>\n",
              "<table border=\"1\" class=\"dataframe\">\n",
              "  <thead>\n",
              "    <tr style=\"text-align: right;\">\n",
              "      <th></th>\n",
              "      <th>Open</th>\n",
              "      <th>High</th>\n",
              "      <th>Low</th>\n",
              "      <th>Close</th>\n",
              "      <th>Volume</th>\n",
              "      <th>Change</th>\n",
              "      <th>Year</th>\n",
              "      <th>Month</th>\n",
              "      <th>Day</th>\n",
              "    </tr>\n",
              "    <tr>\n",
              "      <th>Date</th>\n",
              "      <th></th>\n",
              "      <th></th>\n",
              "      <th></th>\n",
              "      <th></th>\n",
              "      <th></th>\n",
              "      <th></th>\n",
              "      <th></th>\n",
              "      <th></th>\n",
              "      <th></th>\n",
              "    </tr>\n",
              "  </thead>\n",
              "  <tbody>\n",
              "    <tr>\n",
              "      <th>1998-04-16</th>\n",
              "      <td>1301</td>\n",
              "      <td>1301</td>\n",
              "      <td>1207</td>\n",
              "      <td>1245</td>\n",
              "      <td>339630</td>\n",
              "      <td>NaN</td>\n",
              "      <td>1998</td>\n",
              "      <td>4</td>\n",
              "      <td>16</td>\n",
              "    </tr>\n",
              "    <tr>\n",
              "      <th>1998-04-17</th>\n",
              "      <td>1245</td>\n",
              "      <td>1267</td>\n",
              "      <td>1229</td>\n",
              "      <td>1254</td>\n",
              "      <td>225160</td>\n",
              "      <td>0.007229</td>\n",
              "      <td>1998</td>\n",
              "      <td>4</td>\n",
              "      <td>17</td>\n",
              "    </tr>\n",
              "    <tr>\n",
              "      <th>1998-04-18</th>\n",
              "      <td>1287</td>\n",
              "      <td>1301</td>\n",
              "      <td>1234</td>\n",
              "      <td>1236</td>\n",
              "      <td>219894</td>\n",
              "      <td>-0.014354</td>\n",
              "      <td>1998</td>\n",
              "      <td>4</td>\n",
              "      <td>18</td>\n",
              "    </tr>\n",
              "    <tr>\n",
              "      <th>1998-04-20</th>\n",
              "      <td>1243</td>\n",
              "      <td>1269</td>\n",
              "      <td>1227</td>\n",
              "      <td>1262</td>\n",
              "      <td>152470</td>\n",
              "      <td>0.021036</td>\n",
              "      <td>1998</td>\n",
              "      <td>4</td>\n",
              "      <td>20</td>\n",
              "    </tr>\n",
              "    <tr>\n",
              "      <th>1998-04-21</th>\n",
              "      <td>1279</td>\n",
              "      <td>1318</td>\n",
              "      <td>1252</td>\n",
              "      <td>1294</td>\n",
              "      <td>310010</td>\n",
              "      <td>0.025357</td>\n",
              "      <td>1998</td>\n",
              "      <td>4</td>\n",
              "      <td>21</td>\n",
              "    </tr>\n",
              "  </tbody>\n",
              "</table>\n",
              "</div>"
            ],
            "text/plain": [
              "            Open  High   Low  Close  Volume    Change  Year  Month  Day\n",
              "Date                                                                   \n",
              "1998-04-16  1301  1301  1207   1245  339630       NaN  1998      4   16\n",
              "1998-04-17  1245  1267  1229   1254  225160  0.007229  1998      4   17\n",
              "1998-04-18  1287  1301  1234   1236  219894 -0.014354  1998      4   18\n",
              "1998-04-20  1243  1269  1227   1262  152470  0.021036  1998      4   20\n",
              "1998-04-21  1279  1318  1252   1294  310010  0.025357  1998      4   21"
            ]
          },
          "execution_count": 21,
          "metadata": {},
          "output_type": "execute_result"
        }
      ],
      "source": [
        "stock.head()"
      ]
    },
    {
      "cell_type": "markdown",
      "metadata": {
        "id": "5FBTlube0l4d"
      },
      "source": [
        "## 시각화"
      ]
    },
    {
      "cell_type": "code",
      "execution_count": 22,
      "metadata": {
        "colab": {
          "base_uri": "https://localhost:8080/",
          "height": 571
        },
        "id": "MWcaWEa80l4o",
        "outputId": "5e77a9be-a7fa-4c14-b7fb-4bec85e92448"
      },
      "outputs": [
        {
          "data": {
            "text/plain": [
              "Text(0, 0.5, 'price')"
            ]
          },
          "execution_count": 22,
          "metadata": {},
          "output_type": "execute_result"
        },
        {
          "name": "stderr",
          "output_type": "stream",
          "text": [
            "findfont: Font family ['NanumGothic'] not found. Falling back to DejaVu Sans.\n"
          ]
        },
        {
          "data": {
            "image/png": "[encoded data removed]",
            "text/plain": [
              "<Figure size 1152x648 with 1 Axes>"
            ]
          },
          "metadata": {
            "needs_background": "light"
          },
          "output_type": "display_data"
        }
      ],
      "source": [
        "plt.figure(figsize=(16, 9))\n",
        "sns.lineplot(y=stock['Close'], x=stock.index)\n",
        "plt.xlabel('time')\n",
        "plt.ylabel('price')"
      ]
    },
    {
      "cell_type": "code",
      "execution_count": 23,
      "metadata": {
        "id": "mTbW1rJjOsXe",
        "outputId": "c7c59ca4-f0e7-497f-b406-25ba003b6407"
      },
      "outputs": [
        {
          "name": "stderr",
          "output_type": "stream",
          "text": [
            "findfont: Font family ['NanumGothic'] not found. Falling back to DejaVu Sans.\n"
          ]
        },
        {
          "data": {
            "image/png": "[encoded data removed]",
            "text/plain": [
              "<Figure size 1152x648 with 4 Axes>"
            ]
          },
          "metadata": {
            "needs_background": "light"
          },
          "output_type": "display_data"
        }
      ],
      "source": [
        "time_steps = [['1990', '2000'], \n",
        "              ['2000', '2010'], \n",
        "              ['2010', '2015'], \n",
        "              ['2015', '2020']]\n",
        "\n",
        "fig, axes = plt.subplots(2, 2)\n",
        "fig.set_size_inches(16, 9)\n",
        "for i in range(4):\n",
        "    ax = axes[i//2, i%2]\n",
        "    df = stock.loc[(stock.index > time_steps[i][0]) & (stock.index < time_steps[i][1])]\n",
        "    sns.lineplot(y=df['Close'], x=df.index, ax=ax)\n",
        "    ax.set_title(f'{time_steps[i][0]}~{time_steps[i][1]}')\n",
        "    ax.set_xlabel('time')\n",
        "    ax.set_ylabel('price')\n",
        "plt.tight_layout()\n",
        "plt.show()"
      ]
    },
    {
      "cell_type": "markdown",
      "metadata": {
        "id": "KefwcLhoOsXe"
      },
      "source": [
        "## 데이터 전처리"
      ]
    },
    {
      "cell_type": "markdown",
      "metadata": {
        "id": "EEjOck2sOsXe"
      },
      "source": [
        "주가 데이터에 대하여 딥러닝 모델이 더 잘 학습할 수 있도록 **정규화(Normalization)**를 해주도록 하겠습니다.\n",
        "\n",
        "**표준화 (Standardization)**와 **정규화(Normalization)**에 대한 내용은 아래 링크에서 더 자세히 다루니, 참고해 보시기 바랍니다.\n",
        "\n",
        "- [데이터 전처리에 관하여](https://teddylee777.github.io/scikit-learn/scikit-learn-preprocessing)"
      ]
    },
    {
      "cell_type": "code",
      "execution_count": 24,
      "metadata": {
        "id": "4-4PgRMZ0l5Q",
        "outputId": "e06556eb-d65f-4ea9-f45c-f330c07b23b8"
      },
      "outputs": [
        {
          "data": {
            "text/plain": [
              "array([[0.01440753, 0.01344008, 0.01348603, 0.00671743, 0.00376087],\n",
              "       [0.01378738, 0.01308884, 0.01373184, 0.00681702, 0.0024933 ],\n",
              "       [0.01425249, 0.01344008, 0.01378771, 0.00661783, 0.00243498],\n",
              "       ...,\n",
              "       [0.67884828, 0.63533058, 0.6726257 , 0.66468206, 0.29689247],\n",
              "       [0.67884828, 0.63842975, 0.67597765, 0.66689538, 0.25906196],\n",
              "       [0.65780731, 0.61880165, 0.66368715, 0.65472212, 0.31885308]])"
            ]
          },
          "execution_count": 24,
          "metadata": {},
          "output_type": "execute_result"
        }
      ],
      "source": [
        "from sklearn.preprocessing import MinMaxScaler\n",
        "\n",
        "scaler = MinMaxScaler()\n",
        "# 스케일을 적용할 column을 정의합니다.\n",
        "scale_cols = ['Open', 'High', 'Low', 'Close', 'Volume']\n",
        "# 스케일 후 columns\n",
        "scaled = scaler.fit_transform(stock[scale_cols])\n",
        "scaled"
      ]
    },
    {
      "cell_type": "markdown",
      "metadata": {
        "id": "1WV8zA3JOsXf"
      },
      "source": [
        "스케일이 완료된 column으로 새로운 데이터프레임을 생성합니다.\n",
        "\n",
        "**시간 순으로 정렬**되어 있으며, datetime index는 제외했습니다.\n",
        "\n",
        "*6,000개의 row, 5개 column*으로 이루어진 데이터셋이 DataFrame으로 정리되었습니다."
      ]
    },
    {
      "cell_type": "code",
      "execution_count": 25,
      "metadata": {
        "id": "dIJjE21B0l5m"
      },
      "outputs": [],
      "source": [
        "df = pd.DataFrame(scaled, columns=scale_cols)"
      ]
    },
    {
      "cell_type": "markdown",
      "metadata": {
        "id": "Y6FMhICfOsXf"
      },
      "source": [
        "## train / test 분할"
      ]
    },
    {
      "cell_type": "code",
      "execution_count": 26,
      "metadata": {
        "id": "xM8t2z_sOsXf"
      },
      "outputs": [],
      "source": [
        "from sklearn.model_selection import train_test_split"
      ]
    },
    {
      "cell_type": "code",
      "execution_count": 27,
      "metadata": {
        "id": "1Y6tHFidOsXf"
      },
      "outputs": [],
      "source": [
        "x_train, x_test, y_train, y_test = train_test_split(df.drop('Close', 1), df['Close'], test_size=0.2, random_state=0, shuffle=False)"
      ]
    },
    {
      "cell_type": "code",
      "execution_count": 28,
      "metadata": {
        "id": "-FIe3IyFOsXg",
        "outputId": "42130763-ba41-436d-9b3c-a847c7681411"
      },
      "outputs": [
        {
          "data": {
            "text/plain": [
              "((4800, 4), (4800,))"
            ]
          },
          "execution_count": 28,
          "metadata": {},
          "output_type": "execute_result"
        }
      ],
      "source": [
        "x_train.shape, y_train.shape"
      ]
    },
    {
      "cell_type": "code",
      "execution_count": 29,
      "metadata": {
        "id": "FcUSF60OOsXg",
        "outputId": "27f08033-7488-43d6-e26f-6c718320ab18"
      },
      "outputs": [
        {
          "data": {
            "text/plain": [
              "((1200, 4), (1200,))"
            ]
          },
          "execution_count": 29,
          "metadata": {},
          "output_type": "execute_result"
        }
      ],
      "source": [
        "x_test.shape, y_test.shape"
      ]
    },
    {
      "cell_type": "code",
      "execution_count": 30,
      "metadata": {
        "id": "ej7CvAwnOsXg",
        "outputId": "941db896-d4df-4048-ba98-df31d3e1a431"
      },
      "outputs": [
        {
          "data": {
            "text/html": [
              "<div>\n",
              "<style scoped>\n",
              "    .dataframe tbody tr th:only-of-type {\n",
              "        vertical-align: middle;\n",
              "    }\n",
              "\n",
              "    .dataframe tbody tr th {\n",
              "        vertical-align: top;\n",
              "    }\n",
              "\n",
              "    .dataframe thead th {\n",
              "        text-align: right;\n",
              "    }\n",
              "</style>\n",
              "<table border=\"1\" class=\"dataframe\">\n",
              "  <thead>\n",
              "    <tr style=\"text-align: right;\">\n",
              "      <th></th>\n",
              "      <th>Open</th>\n",
              "      <th>High</th>\n",
              "      <th>Low</th>\n",
              "      <th>Volume</th>\n",
              "    </tr>\n",
              "  </thead>\n",
              "  <tbody>\n",
              "    <tr>\n",
              "      <th>0</th>\n",
              "      <td>0.014408</td>\n",
              "      <td>0.013440</td>\n",
              "      <td>0.013486</td>\n",
              "      <td>0.003761</td>\n",
              "    </tr>\n",
              "    <tr>\n",
              "      <th>1</th>\n",
              "      <td>0.013787</td>\n",
              "      <td>0.013089</td>\n",
              "      <td>0.013732</td>\n",
              "      <td>0.002493</td>\n",
              "    </tr>\n",
              "    <tr>\n",
              "      <th>2</th>\n",
              "      <td>0.014252</td>\n",
              "      <td>0.013440</td>\n",
              "      <td>0.013788</td>\n",
              "      <td>0.002435</td>\n",
              "    </tr>\n",
              "    <tr>\n",
              "      <th>3</th>\n",
              "      <td>0.013765</td>\n",
              "      <td>0.013110</td>\n",
              "      <td>0.013709</td>\n",
              "      <td>0.001688</td>\n",
              "    </tr>\n",
              "    <tr>\n",
              "      <th>4</th>\n",
              "      <td>0.014164</td>\n",
              "      <td>0.013616</td>\n",
              "      <td>0.013989</td>\n",
              "      <td>0.003433</td>\n",
              "    </tr>\n",
              "    <tr>\n",
              "      <th>...</th>\n",
              "      <td>...</td>\n",
              "      <td>...</td>\n",
              "      <td>...</td>\n",
              "      <td>...</td>\n",
              "    </tr>\n",
              "    <tr>\n",
              "      <th>4795</th>\n",
              "      <td>0.563234</td>\n",
              "      <td>0.528512</td>\n",
              "      <td>0.564469</td>\n",
              "      <td>0.001871</td>\n",
              "    </tr>\n",
              "    <tr>\n",
              "      <th>4796</th>\n",
              "      <td>0.561462</td>\n",
              "      <td>0.526860</td>\n",
              "      <td>0.565587</td>\n",
              "      <td>0.001572</td>\n",
              "    </tr>\n",
              "    <tr>\n",
              "      <th>4797</th>\n",
              "      <td>0.559247</td>\n",
              "      <td>0.524380</td>\n",
              "      <td>0.557989</td>\n",
              "      <td>0.002394</td>\n",
              "    </tr>\n",
              "    <tr>\n",
              "      <th>4798</th>\n",
              "      <td>0.549280</td>\n",
              "      <td>0.516736</td>\n",
              "      <td>0.550838</td>\n",
              "      <td>0.002486</td>\n",
              "    </tr>\n",
              "    <tr>\n",
              "      <th>4799</th>\n",
              "      <td>0.553710</td>\n",
              "      <td>0.523140</td>\n",
              "      <td>0.553743</td>\n",
              "      <td>0.002536</td>\n",
              "    </tr>\n",
              "  </tbody>\n",
              "</table>\n",
              "<p>4800 rows × 4 columns</p>\n",
              "</div>"
            ],
            "text/plain": [
              "          Open      High       Low    Volume\n",
              "0     0.014408  0.013440  0.013486  0.003761\n",
              "1     0.013787  0.013089  0.013732  0.002493\n",
              "2     0.014252  0.013440  0.013788  0.002435\n",
              "3     0.013765  0.013110  0.013709  0.001688\n",
              "4     0.014164  0.013616  0.013989  0.003433\n",
              "...        ...       ...       ...       ...\n",
              "4795  0.563234  0.528512  0.564469  0.001871\n",
              "4796  0.561462  0.526860  0.565587  0.001572\n",
              "4797  0.559247  0.524380  0.557989  0.002394\n",
              "4798  0.549280  0.516736  0.550838  0.002486\n",
              "4799  0.553710  0.523140  0.553743  0.002536\n",
              "\n",
              "[4800 rows x 4 columns]"
            ]
          },
          "execution_count": 30,
          "metadata": {},
          "output_type": "execute_result"
        }
      ],
      "source": [
        "x_train"
      ]
    },
    {
      "cell_type": "markdown",
      "metadata": {
        "id": "GaFjNn6kOsXg"
      },
      "source": [
        "## TensroFlow Dataset을 활용한 시퀀스 데이터셋 구성"
      ]
    },
    {
      "cell_type": "code",
      "execution_count": 31,
      "metadata": {
        "id": "zEYRMe54OsXg"
      },
      "outputs": [],
      "source": [
        "import tensorflow as tf"
      ]
    },
    {
      "cell_type": "code",
      "execution_count": 32,
      "metadata": {
        "id": "wDxJI11-OsXg"
      },
      "outputs": [],
      "source": [
        "def windowed_dataset(series, window_size, batch_size, shuffle):\n",
        "    series = tf.expand_dims(series, axis=-1)\n",
        "    ds = tf.data.Dataset.from_tensor_slices(series)\n",
        "    ds = ds.window(window_size + 1, shift=1, drop_remainder=True)\n",
        "    ds = ds.flat_map(lambda w: w.batch(window_size + 1))\n",
        "    if shuffle:\n",
        "        ds = ds.shuffle(1000)\n",
        "    ds = ds.map(lambda w: (w[:-1], w[-1]))\n",
        "    return ds.batch(batch_size).prefetch(1)"
      ]
    },
    {
      "cell_type": "markdown",
      "metadata": {
        "id": "FxwMg7AeOsXh"
      },
      "source": [
        "Hyperparameter를 정의합니다."
      ]
    },
    {
      "cell_type": "code",
      "execution_count": 33,
      "metadata": {
        "id": "NYeRoGnNOsXh"
      },
      "outputs": [],
      "source": [
        "WINDOW_SIZE=20\n",
        "BATCH_SIZE=32"
      ]
    },
    {
      "cell_type": "code",
      "execution_count": 34,
      "metadata": {
        "id": "Fbz7Yg_pOsXh"
      },
      "outputs": [],
      "source": [
        "# trian_data는 학습용 데이터셋, test_data는 검증용 데이터셋 입니다.\n",
        "train_data = windowed_dataset(y_train, WINDOW_SIZE, BATCH_SIZE, True)\n",
        "test_data = windowed_dataset(y_test, WINDOW_SIZE, BATCH_SIZE, False)"
      ]
    },
    {
      "cell_type": "code",
      "execution_count": 35,
      "metadata": {
        "id": "XVtU5tv0OsXh",
        "outputId": "e3e5bc92-f0ca-41c7-c08f-b73facab5535"
      },
      "outputs": [
        {
          "name": "stdout",
          "output_type": "stream",
          "text": [
            "데이터셋(X) 구성(batch_size, window_size, feature갯수): (32, 20, 1)\n",
            "데이터셋(Y) 구성(batch_size, window_size, feature갯수): (32, 1)\n"
          ]
        }
      ],
      "source": [
        "# 아래의 코드로 데이터셋의 구성을 확인해 볼 수 있습니다.\n",
        "# X: (batch_size, window_size, feature)\n",
        "# Y: (batch_size, feature)\n",
        "for data in train_data.take(1):\n",
        "    print(f'데이터셋(X) 구성(batch_size, window_size, feature갯수): {data[0].shape}')\n",
        "    print(f'데이터셋(Y) 구성(batch_size, window_size, feature갯수): {data[1].shape}')"
      ]
    },
    {
      "cell_type": "markdown",
      "metadata": {
        "id": "cUadofJNOsXh"
      },
      "source": [
        "## 모델"
      ]
    },
    {
      "cell_type": "code",
      "execution_count": 36,
      "metadata": {
        "id": "mAkmGu1j0l8M"
      },
      "outputs": [],
      "source": [
        "from keras.models import Sequential\n",
        "from keras.layers import Dense, LSTM, Conv1D, Lambda\n",
        "from keras.losses import Huber\n",
        "from keras.optimizers import Adam\n",
        "from keras.callbacks import EarlyStopping, ModelCheckpoint\n",
        "\n",
        "\n",
        "model = Sequential([\n",
        "    # 1차원 feature map 생성\n",
        "    Conv1D(filters=32, kernel_size=5,\n",
        "           padding=\"causal\",\n",
        "           activation=\"relu\",\n",
        "           input_shape=[WINDOW_SIZE, 1]),\n",
        "    # LSTM\n",
        "    LSTM(16, activation='tanh'),\n",
        "    Dense(16, activation=\"relu\"),\n",
        "    Dense(1),\n",
        "])"
      ]
    },
    {
      "cell_type": "code",
      "execution_count": 37,
      "metadata": {
        "id": "xShll_EX0l8T"
      },
      "outputs": [],
      "source": [
        "# Sequence 학습에 비교적 좋은 퍼포먼스를 내는 Huber()를 사용합니다.\n",
        "loss = Huber()\n",
        "optimizer = Adam(0.0005)\n",
        "model.compile(loss=Huber(), optimizer=optimizer, metrics=['mse'])"
      ]
    },
    {
      "cell_type": "code",
      "execution_count": 38,
      "metadata": {
        "id": "Gayw6MD4OsXi"
      },
      "outputs": [],
      "source": [
        "# earlystopping은 10번 epoch통안 val_loss 개선이 없다면 학습을 멈춥니다.\n",
        "earlystopping = EarlyStopping(monitor='val_loss', patience=10)\n",
        "# val_loss 기준 체크포인터도 생성합니다.\n",
        "filename = os.path.join('tmp', 'ckeckpointer.ckpt')\n",
        "checkpoint = ModelCheckpoint(filename, \n",
        "                             save_weights_only=True, \n",
        "                             save_best_only=True, \n",
        "                             monitor='val_loss', \n",
        "                             verbose=1)"
      ]
    },
    {
      "cell_type": "code",
      "execution_count": 39,
      "metadata": {
        "colab": {
          "base_uri": "https://localhost:8080/",
          "height": 1000
        },
        "id": "mzRZ41EeOsXi",
        "outputId": "522fff00-b86d-4866-fd81-5bc705d751c2"
      },
      "outputs": [
        {
          "name": "stdout",
          "output_type": "stream",
          "text": [
            "Epoch 1/50\n",
            "    150/Unknown - 7s 5ms/step - loss: 7.1275e-05 - mse: 1.4255e-04\n",
            "Epoch 1: val_loss improved from inf to 0.00025, saving model to tmp\\ckeckpointer.ckpt\n",
            "150/150 [==============================] - 7s 9ms/step - loss: 7.1275e-05 - mse: 1.4255e-04 - val_loss: 2.5153e-04 - val_mse: 5.0305e-04\n",
            "Epoch 2/50\n",
            "150/150 [==============================] - ETA: 0s - loss: 2.3551e-05 - mse: 4.7103e-05\n",
            "Epoch 2: val_loss improved from 0.00025 to 0.00021, saving model to tmp\\ckeckpointer.ckpt\n",
            "150/150 [==============================] - 1s 6ms/step - loss: 2.3551e-05 - mse: 4.7103e-05 - val_loss: 2.1418e-04 - val_mse: 4.2836e-04\n",
            "Epoch 3/50\n",
            "146/150 [============================>.] - ETA: 0s - loss: 2.0909e-05 - mse: 4.1817e-05\n",
            "Epoch 3: val_loss improved from 0.00021 to 0.00020, saving model to tmp\\ckeckpointer.ckpt\n",
            "150/150 [==============================] - 1s 6ms/step - loss: 2.1312e-05 - mse: 4.2623e-05 - val_loss: 2.0485e-04 - val_mse: 4.0969e-04\n",
            "Epoch 4/50\n",
            "143/150 [===========================>..] - ETA: 0s - loss: 1.9421e-05 - mse: 3.8843e-05\n",
            "Epoch 4: val_loss did not improve from 0.00020\n",
            "150/150 [==============================] - 1s 6ms/step - loss: 2.0313e-05 - mse: 4.0625e-05 - val_loss: 2.2465e-04 - val_mse: 4.4930e-04\n",
            "Epoch 5/50\n",
            "144/150 [===========================>..] - ETA: 0s - loss: 1.7738e-05 - mse: 3.5475e-05\n",
            "Epoch 5: val_loss did not improve from 0.00020\n",
            "150/150 [==============================] - 1s 6ms/step - loss: 1.8804e-05 - mse: 3.7607e-05 - val_loss: 2.2964e-04 - val_mse: 4.5928e-04\n",
            "Epoch 6/50\n",
            "140/150 [===========================>..] - ETA: 0s - loss: 1.8480e-05 - mse: 3.6959e-05\n",
            "Epoch 6: val_loss improved from 0.00020 to 0.00019, saving model to tmp\\ckeckpointer.ckpt\n",
            "150/150 [==============================] - 1s 6ms/step - loss: 1.9727e-05 - mse: 3.9454e-05 - val_loss: 1.8806e-04 - val_mse: 3.7613e-04\n",
            "Epoch 7/50\n",
            "150/150 [==============================] - ETA: 0s - loss: 1.9522e-05 - mse: 3.9044e-05\n",
            "Epoch 7: val_loss did not improve from 0.00019\n",
            "150/150 [==============================] - 1s 5ms/step - loss: 1.9522e-05 - mse: 3.9044e-05 - val_loss: 2.6987e-04 - val_mse: 5.3974e-04\n",
            "Epoch 8/50\n",
            "144/150 [===========================>..] - ETA: 0s - loss: 1.6976e-05 - mse: 3.3953e-05\n",
            "Epoch 8: val_loss did not improve from 0.00019\n",
            "150/150 [==============================] - 1s 5ms/step - loss: 1.7695e-05 - mse: 3.5390e-05 - val_loss: 2.2348e-04 - val_mse: 4.4695e-04\n",
            "Epoch 9/50\n",
            "146/150 [============================>.] - ETA: 0s - loss: 1.6432e-05 - mse: 3.2863e-05\n",
            "Epoch 9: val_loss did not improve from 0.00019\n",
            "150/150 [==============================] - 1s 5ms/step - loss: 1.7032e-05 - mse: 3.4064e-05 - val_loss: 2.3171e-04 - val_mse: 4.6341e-04\n",
            "Epoch 10/50\n",
            "147/150 [============================>.] - ETA: 0s - loss: 1.5935e-05 - mse: 3.1871e-05\n",
            "Epoch 10: val_loss did not improve from 0.00019\n",
            "150/150 [==============================] - 1s 5ms/step - loss: 1.6213e-05 - mse: 3.2427e-05 - val_loss: 3.0572e-04 - val_mse: 6.1144e-04\n",
            "Epoch 11/50\n",
            "141/150 [===========================>..] - ETA: 0s - loss: 1.5372e-05 - mse: 3.0744e-05\n",
            "Epoch 11: val_loss did not improve from 0.00019\n",
            "150/150 [==============================] - 1s 5ms/step - loss: 1.6355e-05 - mse: 3.2710e-05 - val_loss: 2.0337e-04 - val_mse: 4.0674e-04\n",
            "Epoch 12/50\n",
            "142/150 [===========================>..] - ETA: 0s - loss: 1.4454e-05 - mse: 2.8909e-05\n",
            "Epoch 12: val_loss did not improve from 0.00019\n",
            "150/150 [==============================] - 1s 5ms/step - loss: 1.5996e-05 - mse: 3.1992e-05 - val_loss: 2.5690e-04 - val_mse: 5.1379e-04\n",
            "Epoch 13/50\n",
            "145/150 [============================>.] - ETA: 0s - loss: 1.6560e-05 - mse: 3.3119e-05\n",
            "Epoch 13: val_loss improved from 0.00019 to 0.00019, saving model to tmp\\ckeckpointer.ckpt\n",
            "150/150 [==============================] - 1s 6ms/step - loss: 1.7367e-05 - mse: 3.4733e-05 - val_loss: 1.8797e-04 - val_mse: 3.7594e-04\n",
            "Epoch 14/50\n",
            "147/150 [============================>.] - ETA: 0s - loss: 1.5165e-05 - mse: 3.0329e-05\n",
            "Epoch 14: val_loss improved from 0.00019 to 0.00014, saving model to tmp\\ckeckpointer.ckpt\n",
            "150/150 [==============================] - 1s 6ms/step - loss: 1.5431e-05 - mse: 3.0862e-05 - val_loss: 1.4439e-04 - val_mse: 2.8878e-04\n",
            "Epoch 15/50\n",
            "144/150 [===========================>..] - ETA: 0s - loss: 1.5229e-05 - mse: 3.0458e-05\n",
            "Epoch 15: val_loss improved from 0.00014 to 0.00014, saving model to tmp\\ckeckpointer.ckpt\n",
            "150/150 [==============================] - 1s 6ms/step - loss: 1.5651e-05 - mse: 3.1301e-05 - val_loss: 1.3741e-04 - val_mse: 2.7483e-04\n",
            "Epoch 16/50\n",
            "145/150 [============================>.] - ETA: 0s - loss: 1.6224e-05 - mse: 3.2447e-05\n",
            "Epoch 16: val_loss improved from 0.00014 to 0.00013, saving model to tmp\\ckeckpointer.ckpt\n",
            "150/150 [==============================] - 1s 6ms/step - loss: 1.6479e-05 - mse: 3.2959e-05 - val_loss: 1.3295e-04 - val_mse: 2.6590e-04\n",
            "Epoch 17/50\n",
            "142/150 [===========================>..] - ETA: 0s - loss: 1.3740e-05 - mse: 2.7480e-05\n",
            "Epoch 17: val_loss improved from 0.00013 to 0.00013, saving model to tmp\\ckeckpointer.ckpt\n",
            "150/150 [==============================] - 1s 6ms/step - loss: 1.4064e-05 - mse: 2.8129e-05 - val_loss: 1.2784e-04 - val_mse: 2.5568e-04\n",
            "Epoch 18/50\n",
            "141/150 [===========================>..] - ETA: 0s - loss: 1.3438e-05 - mse: 2.6875e-05\n",
            "Epoch 18: val_loss did not improve from 0.00013\n",
            "150/150 [==============================] - 1s 5ms/step - loss: 1.4049e-05 - mse: 2.8098e-05 - val_loss: 2.1009e-04 - val_mse: 4.2019e-04\n",
            "Epoch 19/50\n",
            "149/150 [============================>.] - ETA: 0s - loss: 1.4964e-05 - mse: 2.9928e-05\n",
            "Epoch 19: val_loss did not improve from 0.00013\n",
            "150/150 [==============================] - 1s 5ms/step - loss: 1.4993e-05 - mse: 2.9986e-05 - val_loss: 1.4334e-04 - val_mse: 2.8668e-04\n",
            "Epoch 20/50\n",
            "145/150 [============================>.] - ETA: 0s - loss: 1.4325e-05 - mse: 2.8650e-05\n",
            "Epoch 20: val_loss improved from 0.00013 to 0.00012, saving model to tmp\\ckeckpointer.ckpt\n",
            "150/150 [==============================] - 1s 7ms/step - loss: 1.4570e-05 - mse: 2.9139e-05 - val_loss: 1.1932e-04 - val_mse: 2.3864e-04\n",
            "Epoch 21/50\n",
            "147/150 [============================>.] - ETA: 0s - loss: 1.4143e-05 - mse: 2.8287e-05\n",
            "Epoch 21: val_loss did not improve from 0.00012\n",
            "150/150 [==============================] - 1s 5ms/step - loss: 1.4231e-05 - mse: 2.8462e-05 - val_loss: 1.6719e-04 - val_mse: 3.3437e-04\n",
            "Epoch 22/50\n",
            "148/150 [============================>.] - ETA: 0s - loss: 1.4258e-05 - mse: 2.8516e-05\n",
            "Epoch 22: val_loss did not improve from 0.00012\n",
            "150/150 [==============================] - 1s 5ms/step - loss: 1.4274e-05 - mse: 2.8549e-05 - val_loss: 1.8555e-04 - val_mse: 3.7109e-04\n",
            "Epoch 23/50\n",
            "146/150 [============================>.] - ETA: 0s - loss: 1.3535e-05 - mse: 2.7070e-05\n",
            "Epoch 23: val_loss improved from 0.00012 to 0.00012, saving model to tmp\\ckeckpointer.ckpt\n",
            "150/150 [==============================] - 1s 7ms/step - loss: 1.3714e-05 - mse: 2.7428e-05 - val_loss: 1.1624e-04 - val_mse: 2.3248e-04\n",
            "Epoch 24/50\n",
            "148/150 [============================>.] - ETA: 0s - loss: 1.3098e-05 - mse: 2.6196e-05\n",
            "Epoch 24: val_loss improved from 0.00012 to 0.00011, saving model to tmp\\ckeckpointer.ckpt\n",
            "150/150 [==============================] - 1s 6ms/step - loss: 1.3314e-05 - mse: 2.6629e-05 - val_loss: 1.0765e-04 - val_mse: 2.1530e-04\n",
            "Epoch 25/50\n",
            "145/150 [============================>.] - ETA: 0s - loss: 1.3440e-05 - mse: 2.6879e-05\n",
            "Epoch 25: val_loss did not improve from 0.00011\n",
            "150/150 [==============================] - 1s 5ms/step - loss: 1.4037e-05 - mse: 2.8074e-05 - val_loss: 1.1383e-04 - val_mse: 2.2765e-04\n",
            "Epoch 26/50\n",
            "144/150 [===========================>..] - ETA: 0s - loss: 1.3137e-05 - mse: 2.6275e-05\n",
            "Epoch 26: val_loss did not improve from 0.00011\n",
            "150/150 [==============================] - 1s 6ms/step - loss: 1.3451e-05 - mse: 2.6902e-05 - val_loss: 1.0816e-04 - val_mse: 2.1632e-04\n",
            "Epoch 27/50\n",
            "144/150 [===========================>..] - ETA: 0s - loss: 1.2999e-05 - mse: 2.5997e-05\n",
            "Epoch 27: val_loss did not improve from 0.00011\n",
            "150/150 [==============================] - 1s 5ms/step - loss: 1.3502e-05 - mse: 2.7005e-05 - val_loss: 1.0787e-04 - val_mse: 2.1573e-04\n",
            "Epoch 28/50\n",
            "143/150 [===========================>..] - ETA: 0s - loss: 1.1650e-05 - mse: 2.3300e-05\n",
            "Epoch 28: val_loss improved from 0.00011 to 0.00010, saving model to tmp\\ckeckpointer.ckpt\n",
            "150/150 [==============================] - 1s 6ms/step - loss: 1.2391e-05 - mse: 2.4782e-05 - val_loss: 1.0112e-04 - val_mse: 2.0225e-04\n",
            "Epoch 29/50\n",
            "146/150 [============================>.] - ETA: 0s - loss: 1.2047e-05 - mse: 2.4093e-05\n",
            "Epoch 29: val_loss did not improve from 0.00010\n",
            "150/150 [==============================] - 1s 5ms/step - loss: 1.2384e-05 - mse: 2.4769e-05 - val_loss: 2.2472e-04 - val_mse: 4.4944e-04\n",
            "Epoch 30/50\n",
            "141/150 [===========================>..] - ETA: 0s - loss: 1.1866e-05 - mse: 2.3732e-05\n",
            "Epoch 30: val_loss did not improve from 0.00010\n",
            "150/150 [==============================] - 1s 5ms/step - loss: 1.2550e-05 - mse: 2.5100e-05 - val_loss: 1.7849e-04 - val_mse: 3.5698e-04\n",
            "Epoch 31/50\n",
            "145/150 [============================>.] - ETA: 0s - loss: 1.1338e-05 - mse: 2.2675e-05\n",
            "Epoch 31: val_loss did not improve from 0.00010\n",
            "150/150 [==============================] - 1s 5ms/step - loss: 1.1891e-05 - mse: 2.3781e-05 - val_loss: 1.3059e-04 - val_mse: 2.6117e-04\n",
            "Epoch 32/50\n",
            "147/150 [============================>.] - ETA: 0s - loss: 1.2617e-05 - mse: 2.5233e-05\n",
            "Epoch 32: val_loss improved from 0.00010 to 0.00010, saving model to tmp\\ckeckpointer.ckpt\n",
            "150/150 [==============================] - 1s 7ms/step - loss: 1.2779e-05 - mse: 2.5558e-05 - val_loss: 9.8559e-05 - val_mse: 1.9712e-04\n",
            "Epoch 33/50\n",
            "147/150 [============================>.] - ETA: 0s - loss: 1.2707e-05 - mse: 2.5414e-05\n",
            "Epoch 33: val_loss did not improve from 0.00010\n",
            "150/150 [==============================] - 1s 6ms/step - loss: 1.2798e-05 - mse: 2.5596e-05 - val_loss: 1.0396e-04 - val_mse: 2.0792e-04\n",
            "Epoch 34/50\n",
            "147/150 [============================>.] - ETA: 0s - loss: 1.2505e-05 - mse: 2.5009e-05\n",
            "Epoch 34: val_loss did not improve from 0.00010\n",
            "150/150 [==============================] - 1s 5ms/step - loss: 1.2762e-05 - mse: 2.5524e-05 - val_loss: 1.0705e-04 - val_mse: 2.1411e-04\n",
            "Epoch 35/50\n",
            "144/150 [===========================>..] - ETA: 0s - loss: 1.1057e-05 - mse: 2.2113e-05\n",
            "Epoch 35: val_loss did not improve from 0.00010\n",
            "150/150 [==============================] - 1s 6ms/step - loss: 1.1593e-05 - mse: 2.3186e-05 - val_loss: 1.0882e-04 - val_mse: 2.1764e-04\n",
            "Epoch 36/50\n",
            "142/150 [===========================>..] - ETA: 0s - loss: 1.0273e-05 - mse: 2.0545e-05\n",
            "Epoch 36: val_loss improved from 0.00010 to 0.00009, saving model to tmp\\ckeckpointer.ckpt\n",
            "150/150 [==============================] - 1s 6ms/step - loss: 1.1017e-05 - mse: 2.2034e-05 - val_loss: 8.9577e-05 - val_mse: 1.7915e-04\n",
            "Epoch 37/50\n",
            "145/150 [============================>.] - ETA: 0s - loss: 1.1303e-05 - mse: 2.2606e-05\n",
            "Epoch 37: val_loss did not improve from 0.00009\n",
            "150/150 [==============================] - 1s 6ms/step - loss: 1.1819e-05 - mse: 2.3638e-05 - val_loss: 1.2495e-04 - val_mse: 2.4991e-04\n",
            "Epoch 38/50\n",
            "148/150 [============================>.] - ETA: 0s - loss: 1.0756e-05 - mse: 2.1513e-05\n",
            "Epoch 38: val_loss did not improve from 0.00009\n",
            "150/150 [==============================] - 1s 6ms/step - loss: 1.0828e-05 - mse: 2.1656e-05 - val_loss: 9.1547e-05 - val_mse: 1.8309e-04\n",
            "Epoch 39/50\n",
            "149/150 [============================>.] - ETA: 0s - loss: 1.1670e-05 - mse: 2.3339e-05\n",
            "Epoch 39: val_loss did not improve from 0.00009\n",
            "150/150 [==============================] - 1s 5ms/step - loss: 1.1666e-05 - mse: 2.3331e-05 - val_loss: 1.6818e-04 - val_mse: 3.3637e-04\n",
            "Epoch 40/50\n",
            "148/150 [============================>.] - ETA: 0s - loss: 1.1811e-05 - mse: 2.3621e-05\n",
            "Epoch 40: val_loss did not improve from 0.00009\n",
            "150/150 [==============================] - 1s 5ms/step - loss: 1.1872e-05 - mse: 2.3744e-05 - val_loss: 1.1990e-04 - val_mse: 2.3981e-04\n",
            "Epoch 41/50\n",
            "144/150 [===========================>..] - ETA: 0s - loss: 1.1033e-05 - mse: 2.2067e-05\n",
            "Epoch 41: val_loss improved from 0.00009 to 0.00009, saving model to tmp\\ckeckpointer.ckpt\n",
            "150/150 [==============================] - 1s 6ms/step - loss: 1.1481e-05 - mse: 2.2961e-05 - val_loss: 8.8884e-05 - val_mse: 1.7777e-04\n",
            "Epoch 42/50\n",
            "141/150 [===========================>..] - ETA: 0s - loss: 1.0232e-05 - mse: 2.0465e-05\n",
            "Epoch 42: val_loss did not improve from 0.00009\n",
            "150/150 [==============================] - 1s 5ms/step - loss: 1.0744e-05 - mse: 2.1488e-05 - val_loss: 9.0270e-05 - val_mse: 1.8054e-04\n",
            "Epoch 43/50\n",
            "142/150 [===========================>..] - ETA: 0s - loss: 1.1576e-05 - mse: 2.3151e-05\n",
            "Epoch 43: val_loss did not improve from 0.00009\n",
            "150/150 [==============================] - 1s 6ms/step - loss: 1.1802e-05 - mse: 2.3605e-05 - val_loss: 1.0386e-04 - val_mse: 2.0772e-04\n",
            "Epoch 44/50\n",
            "144/150 [===========================>..] - ETA: 0s - loss: 1.0109e-05 - mse: 2.0218e-05\n",
            "Epoch 44: val_loss did not improve from 0.00009\n",
            "150/150 [==============================] - 1s 6ms/step - loss: 1.0513e-05 - mse: 2.1026e-05 - val_loss: 1.4306e-04 - val_mse: 2.8611e-04\n",
            "Epoch 45/50\n",
            "148/150 [============================>.] - ETA: 0s - loss: 1.0737e-05 - mse: 2.1474e-05\n",
            "Epoch 45: val_loss did not improve from 0.00009\n",
            "150/150 [==============================] - 1s 5ms/step - loss: 1.0858e-05 - mse: 2.1715e-05 - val_loss: 1.1488e-04 - val_mse: 2.2977e-04\n",
            "Epoch 46/50\n",
            "146/150 [============================>.] - ETA: 0s - loss: 1.0774e-05 - mse: 2.1548e-05\n",
            "Epoch 46: val_loss did not improve from 0.00009\n",
            "150/150 [==============================] - 1s 5ms/step - loss: 1.1117e-05 - mse: 2.2234e-05 - val_loss: 1.0021e-04 - val_mse: 2.0042e-04\n",
            "Epoch 47/50\n",
            "150/150 [==============================] - ETA: 0s - loss: 1.0417e-05 - mse: 2.0835e-05\n",
            "Epoch 47: val_loss did not improve from 0.00009\n",
            "150/150 [==============================] - 1s 5ms/step - loss: 1.0417e-05 - mse: 2.0835e-05 - val_loss: 1.3704e-04 - val_mse: 2.7407e-04\n",
            "Epoch 48/50\n",
            "148/150 [============================>.] - ETA: 0s - loss: 1.0977e-05 - mse: 2.1954e-05\n",
            "Epoch 48: val_loss did not improve from 0.00009\n",
            "150/150 [==============================] - 1s 6ms/step - loss: 1.1024e-05 - mse: 2.2048e-05 - val_loss: 1.0696e-04 - val_mse: 2.1391e-04\n",
            "Epoch 49/50\n",
            "149/150 [============================>.] - ETA: 0s - loss: 1.0711e-05 - mse: 2.1422e-05\n",
            "Epoch 49: val_loss did not improve from 0.00009\n",
            "150/150 [==============================] - 1s 6ms/step - loss: 1.0759e-05 - mse: 2.1518e-05 - val_loss: 9.7411e-05 - val_mse: 1.9482e-04\n",
            "Epoch 50/50\n",
            "147/150 [============================>.] - ETA: 0s - loss: 1.0184e-05 - mse: 2.0369e-05\n",
            "Epoch 50: val_loss did not improve from 0.00009\n",
            "150/150 [==============================] - 1s 5ms/step - loss: 1.0347e-05 - mse: 2.0695e-05 - val_loss: 9.4702e-05 - val_mse: 1.8940e-04\n"
          ]
        }
      ],
      "source": [
        "history = model.fit(train_data, \n",
        "                    validation_data=(test_data), \n",
        "                    epochs=50, \n",
        "                    callbacks=[checkpoint, earlystopping])"
      ]
    },
    {
      "cell_type": "markdown",
      "metadata": {
        "id": "4PILy5wtOsXi"
      },
      "source": [
        "저장한 ModelCheckpoint 를 로드합니다."
      ]
    },
    {
      "cell_type": "code",
      "execution_count": 40,
      "metadata": {
        "id": "RoPIDRSo32f-",
        "outputId": "0b724d27-381e-4c7d-a701-8527122e7c87"
      },
      "outputs": [
        {
          "data": {
            "text/plain": [
              "<tensorflow.python.training.tracking.util.CheckpointLoadStatus at 0x29d0e496610>"
            ]
          },
          "execution_count": 40,
          "metadata": {},
          "output_type": "execute_result"
        }
      ],
      "source": [
        "model.load_weights(filename)"
      ]
    },
    {
      "cell_type": "markdown",
      "metadata": {
        "id": "xhsuAVYQOsXj"
      },
      "source": [
        "`test_data`를 활용하여 예측을 진행합니다."
      ]
    },
    {
      "cell_type": "code",
      "execution_count": 41,
      "metadata": {
        "id": "WxAxSLNL0l8Z"
      },
      "outputs": [
        {
          "name": "stdout",
          "output_type": "stream",
          "text": [
            "37/37 [==============================] - 0s 2ms/step\n"
          ]
        }
      ],
      "source": [
        "pred = model.predict(test_data)"
      ]
    },
    {
      "cell_type": "code",
      "execution_count": 42,
      "metadata": {
        "colab": {
          "base_uri": "https://localhost:8080/",
          "height": 35
        },
        "id": "yMPXjSQ10l8d",
        "outputId": "c742e25c-fd8c-4c62-ba46-43eac3802a46"
      },
      "outputs": [
        {
          "data": {
            "text/plain": [
              "(1180, 1)"
            ]
          },
          "execution_count": 42,
          "metadata": {},
          "output_type": "execute_result"
        }
      ],
      "source": [
        "pred.shape"
      ]
    },
    {
      "cell_type": "markdown",
      "metadata": {
        "id": "jaWpXnQf6zMt"
      },
      "source": [
        "## 예측 데이터 시각화"
      ]
    },
    {
      "cell_type": "markdown",
      "metadata": {
        "id": "-gKdHsIuOsXj"
      },
      "source": [
        "아래 시각화 코드중 y_test 데이터에 **[20:]**으로 슬라이싱을 한 이유는\n",
        "\n",
        "예측 데이터에서 20일치의 데이터로 21일치를 예측해야하기 때문에 test_data로 예측 시 *앞의 20일은 예측하지 않습니다.*\n",
        "\n",
        "따라서, 20번 째 index와 비교하면 더욱 정확합니다."
      ]
    },
    {
      "cell_type": "code",
      "execution_count": 43,
      "metadata": {
        "colab": {
          "base_uri": "https://localhost:8080/",
          "height": 537
        },
        "id": "2F4QQ1O_0l8m",
        "outputId": "42555f80-d80c-4361-b0ed-5651c1097899"
      },
      "outputs": [
        {
          "data": {
            "image/png": "[encoded data removed]",
            "text/plain": [
              "<Figure size 864x648 with 1 Axes>"
            ]
          },
          "metadata": {
            "needs_background": "light"
          },
          "output_type": "display_data"
        }
      ],
      "source": [
        "plt.figure(figsize=(12, 9))\n",
        "plt.plot(np.asarray(y_test)[20:], label='actual')\n",
        "plt.plot(pred, label='prediction')\n",
        "plt.legend()\n",
        "plt.show()"
      ]
    }
  ],
  "metadata": {
    "accelerator": "GPU",
    "colab": {
      "collapsed_sections": [],
      "name": "LSTM을 활용한 삼성전자 주가예측.ipynb",
      "provenance": []
    },
    "interpreter": {
      "hash": "a9ae3614596423ef9efdd6fefc3099c1a95e543223e0618099cfd0b8cab1048f"
    },
    "kernelspec": {
      "display_name": "Python 3.9.12 ('beyond')",
      "language": "python",
      "name": "python3"
    },
    "language_info": {
      "codemirror_mode": {
        "name": "ipython",
        "version": 3
      },
      "file_extension": ".py",
      "mimetype": "text/x-python",
      "name": "python",
      "nbconvert_exporter": "python",
      "pygments_lexer": "ipython3",
      "version": "3.9.12"
    }
  },
  "nbformat": 4,
  "nbformat_minor": 0
}
